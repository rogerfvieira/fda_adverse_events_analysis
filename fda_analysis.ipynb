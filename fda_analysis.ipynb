{
  "nbformat": 4,
  "nbformat_minor": 0,
  "metadata": {
    "colab": {
      "provenance": [],
      "toc_visible": true
    },
    "kernelspec": {
      "name": "python3",
      "display_name": "Python 3"
    },
    "language_info": {
      "name": "python"
    }
  },
  "cells": [
    {
      "cell_type": "markdown",
      "source": [
        "# FDA Food Events Analysis"
      ],
      "metadata": {
        "id": "1bXMxD2Vu1Dn"
      }
    },
    {
      "cell_type": "markdown",
      "source": [
        "The FDA wants an analysis of all recorded adverse food events since 2004 in order to guide new organizational goals.   You are to perform data analysis and identify trends on the provided caers dataset. You are to present your findings and offer suggestions in a powerpoint presentation.\n",
        "\n",
        "This data extract contains reports received by CAERS(Center for Food Safety and Applied Nutrition Adverse Event Reporting System) January 1, 2004 through March 31, 2022."
      ],
      "metadata": {
        "id": "bWUnfP43ejEF"
      }
    },
    {
      "cell_type": "markdown",
      "source": [
        "**Important Instructions**\n",
        "\n",
        "---\n",
        "\n",
        "In order to execute all cells with the run all command you must first upload the provided csv file. \n",
        "\n",
        "* Go to [Pepare](#scrollTo=pUa_zpKlUJ_8) \n",
        "\n",
        "* Run the [imports](#scrollTo=Xq7Z-cTUvA6S) and [data collection](#scrollTo=m8FSmZX3A6tW) cells. \n",
        "\n",
        "* After having run the imports cell, and uploaded the provided csv you can run all cells and skip to your problem of interest."
      ],
      "metadata": {
        "id": "Wq5vfrmu6lKa"
      }
    },
    {
      "cell_type": "markdown",
      "source": [
        "\n",
        "##Outline\n"
      ],
      "metadata": {
        "id": "Lxb2LJHGUSt2"
      }
    },
    {
      "cell_type": "markdown",
      "source": [
        "###I.   [Ask](#scrollTo=wy2yhCZKYcAk&line=1&uniqifier=1)\n",
        "\n",
        "The first phase in data analysis is to understand stakeholder expectations and clearly define the problem(s)."
      ],
      "metadata": {
        "id": "XGmnkRSzBLrK"
      }
    },
    {
      "cell_type": "markdown",
      "source": [
        "###II.  [Prepare](#scrollTo=pUa_zpKlUJ_8&line=1&uniqifier=1)\n",
        "\n",
        "The second phase is to collect the data relevant to the problem of interest."
      ],
      "metadata": {
        "id": "vH54ai7wBSKb"
      }
    },
    {
      "cell_type": "markdown",
      "source": [
        "###III. [Process](#scrollTo=pUa_zpKlUJ_8&line=1&uniqifier=1)\n",
        " \n",
        "The third phase is to find errors (such as inconsistencies and inaccuracies) in the data and to eliminate them so that our problem(s) may be answered truthfully.\n"
      ],
      "metadata": {
        "id": "boV7AHQBBaiV"
      }
    },
    {
      "cell_type": "markdown",
      "source": [
        "###IV.  [Analyze](#scrollTo=zLmZW0qXYMAq&line=1&uniqifier=1)\n",
        "\n",
        "The fourth phase is to find patterns, and relationships within the data that provide the required information for solving the problem(s) of interest."
      ],
      "metadata": {
        "id": "bU8DOrZ0Banl"
      }
    },
    {
      "cell_type": "markdown",
      "source": [
        "###V.   [Share](#scrollTo=MOdpxARmYTKn&line=1&uniqifier=1)\n",
        "The fifth phase is to share the findings."
      ],
      "metadata": {
        "id": "cg3D9IWgBZ9n"
      }
    },
    {
      "cell_type": "markdown",
      "source": [
        "###VI.  [Act](#scrollTo=y1F7Ar72YQzZ&line=1&uniqifier=1)\n",
        "The sixth phase of the data is to provide recommendations to the relevant stakeholder(s) on how to solve the problem(s) of interest. "
      ],
      "metadata": {
        "id": "K6ivyJjfBZlt"
      }
    },
    {
      "cell_type": "markdown",
      "source": [
        "# I. Ask"
      ],
      "metadata": {
        "id": "wy2yhCZKYcAk"
      }
    },
    {
      "cell_type": "markdown",
      "source": [
        "The project lead wants a report of the following metrics:\n",
        " \n",
        "1. [Top 5 product types with most reactions](#scrollTo=uzJhv943wvAj&line=1&uniqifier=1)\n",
        " \n",
        "2. [Top 5 ages with most cases](#scrollTo=BXmPGbtfaIGC&line=1&uniqifier=1)\n",
        " \n",
        "3. [Cases per gender](#scrollTo=p7DcQO43p2tg&line=1&uniqifier=1)\n",
        " \n",
        "4. [Top 5 most common case types](#scrollTo=dec8MjAUDp3O)\n",
        " \n",
        "5. [Relationship between age and reactions](#scrollTo=czVQJwc_wJ7E)\n"
      ],
      "metadata": {
        "id": "-8eylsQhP-2E"
      }
    },
    {
      "cell_type": "markdown",
      "source": [
        "## Data Glossary"
      ],
      "metadata": {
        "id": "E7dY9Rh-57N_"
      }
    },
    {
      "cell_type": "markdown",
      "source": [
        "\n",
        "**CAERS_CREATED_DATE:** The date on which the data were first entered into CAERS from an adverse event report.\n",
        "\n",
        "**REPORT_ID:** The unique number that identifies each\n",
        "case.\n",
        "\n",
        "**DATE_EVENT:** The reported date on which the consumer\n",
        "first experienced the adverse event.\n",
        "\n",
        "**PRODUCT_TYPE:** Suspect or concomitant (as reported)\n",
        "\n",
        "**PRODUCT:** The verbatim brands and/or product names indicated to have been used by the consumer reported to have experienced the adverse event. An adverse event report may specify consumption of a single product or multiple products.\n",
        "\n",
        "**PRODUCT_CODE:** The FDA industry code associated with\n",
        "the type of product reported.\n",
        "\n",
        "**DESCRIPTION:** The FDA industry description associated\n",
        "with the type of product reported. (ice\n",
        "cream products, cosmetics, coffee/tea)\n",
        "\n",
        "**PATIENT_AGE:** The age of the consumer reported to have experienced the adverse event.\n",
        "\n",
        "**AGE_UNITS:** The time unit (day, week, month, year)\n",
        "of the age provided in the Age at\n",
        "Adverse Event data field for the\n",
        "consumer reported to have experienced\n",
        "the adverse event.\n",
        "\n",
        "**SEX** The sex of the individual reported to have experienced the adverse event.\n",
        "\n",
        "**CASE_MEDDRA_PREFERRED_TERMS:** The symptom(s) experienced by the injured consumer as specified by the reporter and coded by FDA according to the Medical Data Dictionary for Regulatory Activities (MedDRA).1 Each adverse event report may indicate one or more symptoms.\n",
        "\n",
        "  * MedDRA® the Medical Dictionary for Regulatory Activities terminology is the international medical terminology developed under the auspices of the International Conference on Harmonization of Technical Requirements for Registration of Pharmaceuticals for Human Use (ICH) and used worldwide to classify adverse event symptoms.\n",
        "\n",
        "**CASE_OUTCOME:** Outcome(s) of the adverse event experienced by the injured consumer as specified by the reporter; each report\n",
        "may indicate one or more outcomes."
      ],
      "metadata": {
        "id": "LqeRF4g9NivQ"
      }
    },
    {
      "cell_type": "markdown",
      "source": [
        "#II. Prepare"
      ],
      "metadata": {
        "id": "pUa_zpKlUJ_8"
      }
    },
    {
      "cell_type": "markdown",
      "source": [
        "##Imports"
      ],
      "metadata": {
        "id": "Xq7Z-cTUvA6S"
      }
    },
    {
      "cell_type": "code",
      "execution_count": 1,
      "metadata": {
        "id": "BewhAX_b-Xum"
      },
      "outputs": [],
      "source": [
        "import io\n",
        "import pandas as pd\n",
        "import seaborn as sns\n",
        "import matplotlib.pyplot as plt\n",
        "from google.colab import files"
      ]
    },
    {
      "cell_type": "markdown",
      "source": [
        "## Data Collection / Ingestion"
      ],
      "metadata": {
        "id": "m8FSmZX3A6tW"
      }
    },
    {
      "cell_type": "code",
      "source": [
        "uploaded = files.upload()"
      ],
      "metadata": {
        "colab": {
          "base_uri": "https://localhost:8080/",
          "height": 74
        },
        "id": "z0deu91yA-MT",
        "outputId": "cd2b70db-0028-4cc7-c0ce-ca838baa8785"
      },
      "execution_count": 2,
      "outputs": [
        {
          "output_type": "display_data",
          "data": {
            "text/plain": [
              "<IPython.core.display.HTML object>"
            ],
            "text/html": [
              "\n",
              "     <input type=\"file\" id=\"files-a77151c6-acac-458a-bbcf-3a92010b913c\" name=\"files[]\" multiple disabled\n",
              "        style=\"border:none\" />\n",
              "     <output id=\"result-a77151c6-acac-458a-bbcf-3a92010b913c\">\n",
              "      Upload widget is only available when the cell has been executed in the\n",
              "      current browser session. Please rerun this cell to enable.\n",
              "      </output>\n",
              "      <script>// Copyright 2017 Google LLC\n",
              "//\n",
              "// Licensed under the Apache License, Version 2.0 (the \"License\");\n",
              "// you may not use this file except in compliance with the License.\n",
              "// You may obtain a copy of the License at\n",
              "//\n",
              "//      http://www.apache.org/licenses/LICENSE-2.0\n",
              "//\n",
              "// Unless required by applicable law or agreed to in writing, software\n",
              "// distributed under the License is distributed on an \"AS IS\" BASIS,\n",
              "// WITHOUT WARRANTIES OR CONDITIONS OF ANY KIND, either express or implied.\n",
              "// See the License for the specific language governing permissions and\n",
              "// limitations under the License.\n",
              "\n",
              "/**\n",
              " * @fileoverview Helpers for google.colab Python module.\n",
              " */\n",
              "(function(scope) {\n",
              "function span(text, styleAttributes = {}) {\n",
              "  const element = document.createElement('span');\n",
              "  element.textContent = text;\n",
              "  for (const key of Object.keys(styleAttributes)) {\n",
              "    element.style[key] = styleAttributes[key];\n",
              "  }\n",
              "  return element;\n",
              "}\n",
              "\n",
              "// Max number of bytes which will be uploaded at a time.\n",
              "const MAX_PAYLOAD_SIZE = 100 * 1024;\n",
              "\n",
              "function _uploadFiles(inputId, outputId) {\n",
              "  const steps = uploadFilesStep(inputId, outputId);\n",
              "  const outputElement = document.getElementById(outputId);\n",
              "  // Cache steps on the outputElement to make it available for the next call\n",
              "  // to uploadFilesContinue from Python.\n",
              "  outputElement.steps = steps;\n",
              "\n",
              "  return _uploadFilesContinue(outputId);\n",
              "}\n",
              "\n",
              "// This is roughly an async generator (not supported in the browser yet),\n",
              "// where there are multiple asynchronous steps and the Python side is going\n",
              "// to poll for completion of each step.\n",
              "// This uses a Promise to block the python side on completion of each step,\n",
              "// then passes the result of the previous step as the input to the next step.\n",
              "function _uploadFilesContinue(outputId) {\n",
              "  const outputElement = document.getElementById(outputId);\n",
              "  const steps = outputElement.steps;\n",
              "\n",
              "  const next = steps.next(outputElement.lastPromiseValue);\n",
              "  return Promise.resolve(next.value.promise).then((value) => {\n",
              "    // Cache the last promise value to make it available to the next\n",
              "    // step of the generator.\n",
              "    outputElement.lastPromiseValue = value;\n",
              "    return next.value.response;\n",
              "  });\n",
              "}\n",
              "\n",
              "/**\n",
              " * Generator function which is called between each async step of the upload\n",
              " * process.\n",
              " * @param {string} inputId Element ID of the input file picker element.\n",
              " * @param {string} outputId Element ID of the output display.\n",
              " * @return {!Iterable<!Object>} Iterable of next steps.\n",
              " */\n",
              "function* uploadFilesStep(inputId, outputId) {\n",
              "  const inputElement = document.getElementById(inputId);\n",
              "  inputElement.disabled = false;\n",
              "\n",
              "  const outputElement = document.getElementById(outputId);\n",
              "  outputElement.innerHTML = '';\n",
              "\n",
              "  const pickedPromise = new Promise((resolve) => {\n",
              "    inputElement.addEventListener('change', (e) => {\n",
              "      resolve(e.target.files);\n",
              "    });\n",
              "  });\n",
              "\n",
              "  const cancel = document.createElement('button');\n",
              "  inputElement.parentElement.appendChild(cancel);\n",
              "  cancel.textContent = 'Cancel upload';\n",
              "  const cancelPromise = new Promise((resolve) => {\n",
              "    cancel.onclick = () => {\n",
              "      resolve(null);\n",
              "    };\n",
              "  });\n",
              "\n",
              "  // Wait for the user to pick the files.\n",
              "  const files = yield {\n",
              "    promise: Promise.race([pickedPromise, cancelPromise]),\n",
              "    response: {\n",
              "      action: 'starting',\n",
              "    }\n",
              "  };\n",
              "\n",
              "  cancel.remove();\n",
              "\n",
              "  // Disable the input element since further picks are not allowed.\n",
              "  inputElement.disabled = true;\n",
              "\n",
              "  if (!files) {\n",
              "    return {\n",
              "      response: {\n",
              "        action: 'complete',\n",
              "      }\n",
              "    };\n",
              "  }\n",
              "\n",
              "  for (const file of files) {\n",
              "    const li = document.createElement('li');\n",
              "    li.append(span(file.name, {fontWeight: 'bold'}));\n",
              "    li.append(span(\n",
              "        `(${file.type || 'n/a'}) - ${file.size} bytes, ` +\n",
              "        `last modified: ${\n",
              "            file.lastModifiedDate ? file.lastModifiedDate.toLocaleDateString() :\n",
              "                                    'n/a'} - `));\n",
              "    const percent = span('0% done');\n",
              "    li.appendChild(percent);\n",
              "\n",
              "    outputElement.appendChild(li);\n",
              "\n",
              "    const fileDataPromise = new Promise((resolve) => {\n",
              "      const reader = new FileReader();\n",
              "      reader.onload = (e) => {\n",
              "        resolve(e.target.result);\n",
              "      };\n",
              "      reader.readAsArrayBuffer(file);\n",
              "    });\n",
              "    // Wait for the data to be ready.\n",
              "    let fileData = yield {\n",
              "      promise: fileDataPromise,\n",
              "      response: {\n",
              "        action: 'continue',\n",
              "      }\n",
              "    };\n",
              "\n",
              "    // Use a chunked sending to avoid message size limits. See b/62115660.\n",
              "    let position = 0;\n",
              "    do {\n",
              "      const length = Math.min(fileData.byteLength - position, MAX_PAYLOAD_SIZE);\n",
              "      const chunk = new Uint8Array(fileData, position, length);\n",
              "      position += length;\n",
              "\n",
              "      const base64 = btoa(String.fromCharCode.apply(null, chunk));\n",
              "      yield {\n",
              "        response: {\n",
              "          action: 'append',\n",
              "          file: file.name,\n",
              "          data: base64,\n",
              "        },\n",
              "      };\n",
              "\n",
              "      let percentDone = fileData.byteLength === 0 ?\n",
              "          100 :\n",
              "          Math.round((position / fileData.byteLength) * 100);\n",
              "      percent.textContent = `${percentDone}% done`;\n",
              "\n",
              "    } while (position < fileData.byteLength);\n",
              "  }\n",
              "\n",
              "  // All done.\n",
              "  yield {\n",
              "    response: {\n",
              "      action: 'complete',\n",
              "    }\n",
              "  };\n",
              "}\n",
              "\n",
              "scope.google = scope.google || {};\n",
              "scope.google.colab = scope.google.colab || {};\n",
              "scope.google.colab._files = {\n",
              "  _uploadFiles,\n",
              "  _uploadFilesContinue,\n",
              "};\n",
              "})(self);\n",
              "</script> "
            ]
          },
          "metadata": {}
        },
        {
          "output_type": "stream",
          "name": "stdout",
          "text": [
            "Saving caers.csv to caers.csv\n"
          ]
        }
      ]
    },
    {
      "cell_type": "code",
      "source": [
        "df = pd.read_csv(io.BytesIO(uploaded['caers.csv']))"
      ],
      "metadata": {
        "id": "dTs3dNEm51e8",
        "colab": {
          "base_uri": "https://localhost:8080/"
        },
        "outputId": "04cc2c04-9b12-4111-efd9-90e46df6e95c"
      },
      "execution_count": 21,
      "outputs": [
        {
          "output_type": "stream",
          "name": "stderr",
          "text": [
            "/usr/local/lib/python3.7/dist-packages/IPython/core/interactiveshell.py:3326: DtypeWarning: Columns (1) have mixed types.Specify dtype option on import or set low_memory=False.\n",
            "  exec(code_obj, self.user_global_ns, self.user_ns)\n"
          ]
        }
      ]
    },
    {
      "cell_type": "markdown",
      "source": [
        "#III. Process"
      ],
      "metadata": {
        "id": "AxCXp3Y4ZuCH"
      }
    },
    {
      "cell_type": "markdown",
      "source": [
        "##  Eploratory Data Analysis"
      ],
      "metadata": {
        "id": "mwCIMdJ4BZ4s"
      }
    },
    {
      "cell_type": "code",
      "source": [
        "df.head()"
      ],
      "metadata": {
        "id": "WXTxsVZ2BV8E",
        "colab": {
          "base_uri": "https://localhost:8080/",
          "height": 206
        },
        "outputId": "429f3202-3753-4bd7-990b-83e47c15cf3c"
      },
      "execution_count": 15,
      "outputs": [
        {
          "output_type": "execute_result",
          "data": {
            "text/plain": [
              "  REPORT_ID                             DESCRIPTION  PATIENT_AGE     SEX  \\\n",
              "0     65325             Bakery Prod/Dough/Mix/Icing          2.0  Female   \n",
              "1     65345                         Snack Food Item         10.0    Male   \n",
              "2     65353  Vit/Min/Prot/Unconv Diet(Human/Animal)         40.0  Female   \n",
              "3     65353  Vit/Min/Prot/Unconv Diet(Human/Animal)         40.0  Female   \n",
              "4     65354  Vit/Min/Prot/Unconv Diet(Human/Animal)         66.0    Male   \n",
              "\n",
              "                         CASE_MEDDRA_PREFERRED_TERMS  \n",
              "0  cough, dyspnoea, hospitalisation, rash, swelli...  \n",
              "1                                            choking  \n",
              "2           delusion, paranoia, physical examination  \n",
              "3           delusion, paranoia, physical examination  \n",
              "4                           blood pressure increased  "
            ],
            "text/html": [
              "\n",
              "  <div id=\"df-d87a4a60-3403-4d18-8e41-d0fd39c57acd\">\n",
              "    <div class=\"colab-df-container\">\n",
              "      <div>\n",
              "<style scoped>\n",
              "    .dataframe tbody tr th:only-of-type {\n",
              "        vertical-align: middle;\n",
              "    }\n",
              "\n",
              "    .dataframe tbody tr th {\n",
              "        vertical-align: top;\n",
              "    }\n",
              "\n",
              "    .dataframe thead th {\n",
              "        text-align: right;\n",
              "    }\n",
              "</style>\n",
              "<table border=\"1\" class=\"dataframe\">\n",
              "  <thead>\n",
              "    <tr style=\"text-align: right;\">\n",
              "      <th></th>\n",
              "      <th>REPORT_ID</th>\n",
              "      <th>DESCRIPTION</th>\n",
              "      <th>PATIENT_AGE</th>\n",
              "      <th>SEX</th>\n",
              "      <th>CASE_MEDDRA_PREFERRED_TERMS</th>\n",
              "    </tr>\n",
              "  </thead>\n",
              "  <tbody>\n",
              "    <tr>\n",
              "      <th>0</th>\n",
              "      <td>65325</td>\n",
              "      <td>Bakery Prod/Dough/Mix/Icing</td>\n",
              "      <td>2.0</td>\n",
              "      <td>Female</td>\n",
              "      <td>cough, dyspnoea, hospitalisation, rash, swelli...</td>\n",
              "    </tr>\n",
              "    <tr>\n",
              "      <th>1</th>\n",
              "      <td>65345</td>\n",
              "      <td>Snack Food Item</td>\n",
              "      <td>10.0</td>\n",
              "      <td>Male</td>\n",
              "      <td>choking</td>\n",
              "    </tr>\n",
              "    <tr>\n",
              "      <th>2</th>\n",
              "      <td>65353</td>\n",
              "      <td>Vit/Min/Prot/Unconv Diet(Human/Animal)</td>\n",
              "      <td>40.0</td>\n",
              "      <td>Female</td>\n",
              "      <td>delusion, paranoia, physical examination</td>\n",
              "    </tr>\n",
              "    <tr>\n",
              "      <th>3</th>\n",
              "      <td>65353</td>\n",
              "      <td>Vit/Min/Prot/Unconv Diet(Human/Animal)</td>\n",
              "      <td>40.0</td>\n",
              "      <td>Female</td>\n",
              "      <td>delusion, paranoia, physical examination</td>\n",
              "    </tr>\n",
              "    <tr>\n",
              "      <th>4</th>\n",
              "      <td>65354</td>\n",
              "      <td>Vit/Min/Prot/Unconv Diet(Human/Animal)</td>\n",
              "      <td>66.0</td>\n",
              "      <td>Male</td>\n",
              "      <td>blood pressure increased</td>\n",
              "    </tr>\n",
              "  </tbody>\n",
              "</table>\n",
              "</div>\n",
              "      <button class=\"colab-df-convert\" onclick=\"convertToInteractive('df-d87a4a60-3403-4d18-8e41-d0fd39c57acd')\"\n",
              "              title=\"Convert this dataframe to an interactive table.\"\n",
              "              style=\"display:none;\">\n",
              "        \n",
              "  <svg xmlns=\"http://www.w3.org/2000/svg\" height=\"24px\"viewBox=\"0 0 24 24\"\n",
              "       width=\"24px\">\n",
              "    <path d=\"M0 0h24v24H0V0z\" fill=\"none\"/>\n",
              "    <path d=\"M18.56 5.44l.94 2.06.94-2.06 2.06-.94-2.06-.94-.94-2.06-.94 2.06-2.06.94zm-11 1L8.5 8.5l.94-2.06 2.06-.94-2.06-.94L8.5 2.5l-.94 2.06-2.06.94zm10 10l.94 2.06.94-2.06 2.06-.94-2.06-.94-.94-2.06-.94 2.06-2.06.94z\"/><path d=\"M17.41 7.96l-1.37-1.37c-.4-.4-.92-.59-1.43-.59-.52 0-1.04.2-1.43.59L10.3 9.45l-7.72 7.72c-.78.78-.78 2.05 0 2.83L4 21.41c.39.39.9.59 1.41.59.51 0 1.02-.2 1.41-.59l7.78-7.78 2.81-2.81c.8-.78.8-2.07 0-2.86zM5.41 20L4 18.59l7.72-7.72 1.47 1.35L5.41 20z\"/>\n",
              "  </svg>\n",
              "      </button>\n",
              "      \n",
              "  <style>\n",
              "    .colab-df-container {\n",
              "      display:flex;\n",
              "      flex-wrap:wrap;\n",
              "      gap: 12px;\n",
              "    }\n",
              "\n",
              "    .colab-df-convert {\n",
              "      background-color: #E8F0FE;\n",
              "      border: none;\n",
              "      border-radius: 50%;\n",
              "      cursor: pointer;\n",
              "      display: none;\n",
              "      fill: #1967D2;\n",
              "      height: 32px;\n",
              "      padding: 0 0 0 0;\n",
              "      width: 32px;\n",
              "    }\n",
              "\n",
              "    .colab-df-convert:hover {\n",
              "      background-color: #E2EBFA;\n",
              "      box-shadow: 0px 1px 2px rgba(60, 64, 67, 0.3), 0px 1px 3px 1px rgba(60, 64, 67, 0.15);\n",
              "      fill: #174EA6;\n",
              "    }\n",
              "\n",
              "    [theme=dark] .colab-df-convert {\n",
              "      background-color: #3B4455;\n",
              "      fill: #D2E3FC;\n",
              "    }\n",
              "\n",
              "    [theme=dark] .colab-df-convert:hover {\n",
              "      background-color: #434B5C;\n",
              "      box-shadow: 0px 1px 3px 1px rgba(0, 0, 0, 0.15);\n",
              "      filter: drop-shadow(0px 1px 2px rgba(0, 0, 0, 0.3));\n",
              "      fill: #FFFFFF;\n",
              "    }\n",
              "  </style>\n",
              "\n",
              "      <script>\n",
              "        const buttonEl =\n",
              "          document.querySelector('#df-d87a4a60-3403-4d18-8e41-d0fd39c57acd button.colab-df-convert');\n",
              "        buttonEl.style.display =\n",
              "          google.colab.kernel.accessAllowed ? 'block' : 'none';\n",
              "\n",
              "        async function convertToInteractive(key) {\n",
              "          const element = document.querySelector('#df-d87a4a60-3403-4d18-8e41-d0fd39c57acd');\n",
              "          const dataTable =\n",
              "            await google.colab.kernel.invokeFunction('convertToInteractive',\n",
              "                                                     [key], {});\n",
              "          if (!dataTable) return;\n",
              "\n",
              "          const docLinkHtml = 'Like what you see? Visit the ' +\n",
              "            '<a target=\"_blank\" href=https://colab.research.google.com/notebooks/data_table.ipynb>data table notebook</a>'\n",
              "            + ' to learn more about interactive tables.';\n",
              "          element.innerHTML = '';\n",
              "          dataTable['output_type'] = 'display_data';\n",
              "          await google.colab.output.renderOutput(dataTable, element);\n",
              "          const docLink = document.createElement('div');\n",
              "          docLink.innerHTML = docLinkHtml;\n",
              "          element.appendChild(docLink);\n",
              "        }\n",
              "      </script>\n",
              "    </div>\n",
              "  </div>\n",
              "  "
            ]
          },
          "metadata": {},
          "execution_count": 15
        }
      ]
    },
    {
      "cell_type": "code",
      "source": [
        "df.isnull().sum()"
      ],
      "metadata": {
        "colab": {
          "base_uri": "https://localhost:8080/"
        },
        "id": "MxuO3BLtF1VA",
        "outputId": "cef6a029-1dc9-4d28-918a-70c801185b84"
      },
      "execution_count": 16,
      "outputs": [
        {
          "output_type": "execute_result",
          "data": {
            "text/plain": [
              "REPORT_ID                      0\n",
              "DESCRIPTION                    0\n",
              "PATIENT_AGE                    0\n",
              "SEX                            0\n",
              "CASE_MEDDRA_PREFERRED_TERMS    0\n",
              "dtype: int64"
            ]
          },
          "metadata": {},
          "execution_count": 16
        }
      ]
    },
    {
      "cell_type": "code",
      "source": [
        "df.dtypes"
      ],
      "metadata": {
        "colab": {
          "base_uri": "https://localhost:8080/"
        },
        "id": "F7Ent7XZF8bd",
        "outputId": "e391b0bc-378f-493d-9afa-ab731c00cbfa"
      },
      "execution_count": 17,
      "outputs": [
        {
          "output_type": "execute_result",
          "data": {
            "text/plain": [
              "REPORT_ID                       object\n",
              "DESCRIPTION                     object\n",
              "PATIENT_AGE                    float64\n",
              "SEX                             object\n",
              "CASE_MEDDRA_PREFERRED_TERMS     object\n",
              "dtype: object"
            ]
          },
          "metadata": {},
          "execution_count": 17
        }
      ]
    },
    {
      "cell_type": "code",
      "source": [
        "df['SEX'].unique()"
      ],
      "metadata": {
        "colab": {
          "base_uri": "https://localhost:8080/"
        },
        "id": "frj7ded5GBES",
        "outputId": "835b273d-39d3-48b1-ce1c-0eb94fec95cd"
      },
      "execution_count": 18,
      "outputs": [
        {
          "output_type": "execute_result",
          "data": {
            "text/plain": [
              "array(['Female', 'Male'], dtype=object)"
            ]
          },
          "metadata": {},
          "execution_count": 18
        }
      ]
    },
    {
      "cell_type": "markdown",
      "source": [
        "##  Revist Questions and establish points of focus:"
      ],
      "metadata": {
        "id": "u12XWJlOcgFf"
      }
    },
    {
      "cell_type": "markdown",
      "source": [
        "**Questions** \n",
        "\n",
        "1. Top 5 Products with the most cases\n",
        "\n",
        "      **Relevant columns:** *PRODUCT, CASE_MEDDRA_PREFERRED_TERMS*\n",
        "\n",
        "2. Top 5 ages with most cases\n",
        "\n",
        "      **Relevant columns:** *PATIENT_AGE, AGE_UNITS, CASE_MEDDRA_PREFERRED_TERMS*\n",
        " \n",
        "3. Cases per gender\n",
        "      \n",
        "      **Relevant columns:** *CASE_MEDDRA_PREFERRED_TERMS, SEX*\n",
        " \n",
        "4. Top 5 most common case types\n",
        "\n",
        "      **Relevant columns:** *CASE_MEDDRA_PREFERRED_TERMS*\n",
        "\n",
        "5. Relationship between age and case count\n",
        "      \n",
        "      **Relevant columns** *PATIENT_AGE, CASE_MEDDRA_PREFERRED_TERMS*"
      ],
      "metadata": {
        "id": "N6eco_Aa9sKI"
      }
    },
    {
      "cell_type": "markdown",
      "source": [
        "## Data Cleaning"
      ],
      "metadata": {
        "id": "n4_Eb4gU5GYI"
      }
    },
    {
      "cell_type": "code",
      "source": [
        "# Dropping the columns I won't be using for analysis\n",
        "df.drop(['PRODUCT_TYPE', 'PRODUCT_CODE','DATE_EVENT','CAERS_CREATED_DATE','CASE_OUTCOME','PRODUCT'], axis = 1, inplace=True)\n",
        "\n",
        "# Getting rid of null values\n",
        "df.dropna(subset=['PATIENT_AGE','AGE_UNITS','SEX'],inplace=True)\n",
        " \n",
        "# Getting rid of missing values in the gender column\n",
        "df = df[df['SEX'].isin(['Unknown','Not Reported']) == False]\n",
        " \n",
        "# Turning all reactions lowercase to prevent duplicates\n",
        "df['CASE_MEDDRA_PREFERRED_TERMS'] = df['CASE_MEDDRA_PREFERRED_TERMS'].str.lower()\n",
        " \n",
        "# Convert days to years for age by dividing by 356(365 days in one year)\n",
        "df.loc[df.AGE_UNITS == 'day(s)', 'PATIENT_AGE'] = df['PATIENT_AGE']/365\n",
        "\n",
        "# Convert weeks to years for age by dividing by 52.1786(52 weeks in one year)\n",
        "df.loc[df.AGE_UNITS == 'week(s)', 'PATIENT_AGE'] = df['PATIENT_AGE']/52.1786\n",
        "\n",
        "# Convert months to years for age by dividing by 12(12 months in one year)\n",
        "df.loc[df.AGE_UNITS == 'months(s)', 'PATIENT_AGE'] = df['PATIENT_AGE']/12\n",
        "\n",
        "# After having converted all the consumer_age rows to years I can delete the consumer_age_unit\n",
        "df.drop(columns = 'AGE_UNITS' ,inplace=True)\n",
        "\n",
        "# Reset the index to begin at 0 while maintaining row and row order\n",
        "df.reset_index(inplace=True,drop=True)\n",
        "\n",
        "# Round all the ages to get whole numbers \n",
        "df['PATIENT_AGE'] = df['PATIENT_AGE'].round()"
      ],
      "metadata": {
        "id": "8aKFjDj_8hKN",
        "colab": {
          "base_uri": "https://localhost:8080/"
        },
        "outputId": "145fdfe4-eda9-43b3-e8f9-cf97867b0901"
      },
      "execution_count": 22,
      "outputs": [
        {
          "output_type": "stream",
          "name": "stderr",
          "text": [
            "/usr/local/lib/python3.7/dist-packages/ipykernel_launcher.py:11: SettingWithCopyWarning: \n",
            "A value is trying to be set on a copy of a slice from a DataFrame.\n",
            "Try using .loc[row_indexer,col_indexer] = value instead\n",
            "\n",
            "See the caveats in the documentation: https://pandas.pydata.org/pandas-docs/stable/user_guide/indexing.html#returning-a-view-versus-a-copy\n",
            "  # This is added back by InteractiveShellApp.init_path()\n",
            "/usr/local/lib/python3.7/dist-packages/pandas/core/indexing.py:1773: SettingWithCopyWarning: \n",
            "A value is trying to be set on a copy of a slice from a DataFrame.\n",
            "Try using .loc[row_indexer,col_indexer] = value instead\n",
            "\n",
            "See the caveats in the documentation: https://pandas.pydata.org/pandas-docs/stable/user_guide/indexing.html#returning-a-view-versus-a-copy\n",
            "  self._setitem_single_column(ilocs[0], value, pi)\n",
            "/usr/local/lib/python3.7/dist-packages/pandas/core/frame.py:4913: SettingWithCopyWarning: \n",
            "A value is trying to be set on a copy of a slice from a DataFrame\n",
            "\n",
            "See the caveats in the documentation: https://pandas.pydata.org/pandas-docs/stable/user_guide/indexing.html#returning-a-view-versus-a-copy\n",
            "  errors=errors,\n"
          ]
        }
      ]
    },
    {
      "cell_type": "code",
      "source": [
        "df.head()"
      ],
      "metadata": {
        "colab": {
          "base_uri": "https://localhost:8080/",
          "height": 206
        },
        "id": "xdTkFd1tUPNP",
        "outputId": "4f2d4973-0310-4d3b-f915-e0fef85943b2"
      },
      "execution_count": 23,
      "outputs": [
        {
          "output_type": "execute_result",
          "data": {
            "text/plain": [
              "  REPORT_ID                             DESCRIPTION  PATIENT_AGE     SEX  \\\n",
              "0     65325             Bakery Prod/Dough/Mix/Icing          2.0  Female   \n",
              "1     65345                         Snack Food Item         10.0    Male   \n",
              "2     65353  Vit/Min/Prot/Unconv Diet(Human/Animal)         40.0  Female   \n",
              "3     65353  Vit/Min/Prot/Unconv Diet(Human/Animal)         40.0  Female   \n",
              "4     65354  Vit/Min/Prot/Unconv Diet(Human/Animal)         66.0    Male   \n",
              "\n",
              "                         CASE_MEDDRA_PREFERRED_TERMS  \n",
              "0  cough, dyspnoea, hospitalisation, rash, swelli...  \n",
              "1                                            choking  \n",
              "2           delusion, paranoia, physical examination  \n",
              "3           delusion, paranoia, physical examination  \n",
              "4                           blood pressure increased  "
            ],
            "text/html": [
              "\n",
              "  <div id=\"df-115820de-c835-454d-be9e-b05a128c074f\">\n",
              "    <div class=\"colab-df-container\">\n",
              "      <div>\n",
              "<style scoped>\n",
              "    .dataframe tbody tr th:only-of-type {\n",
              "        vertical-align: middle;\n",
              "    }\n",
              "\n",
              "    .dataframe tbody tr th {\n",
              "        vertical-align: top;\n",
              "    }\n",
              "\n",
              "    .dataframe thead th {\n",
              "        text-align: right;\n",
              "    }\n",
              "</style>\n",
              "<table border=\"1\" class=\"dataframe\">\n",
              "  <thead>\n",
              "    <tr style=\"text-align: right;\">\n",
              "      <th></th>\n",
              "      <th>REPORT_ID</th>\n",
              "      <th>DESCRIPTION</th>\n",
              "      <th>PATIENT_AGE</th>\n",
              "      <th>SEX</th>\n",
              "      <th>CASE_MEDDRA_PREFERRED_TERMS</th>\n",
              "    </tr>\n",
              "  </thead>\n",
              "  <tbody>\n",
              "    <tr>\n",
              "      <th>0</th>\n",
              "      <td>65325</td>\n",
              "      <td>Bakery Prod/Dough/Mix/Icing</td>\n",
              "      <td>2.0</td>\n",
              "      <td>Female</td>\n",
              "      <td>cough, dyspnoea, hospitalisation, rash, swelli...</td>\n",
              "    </tr>\n",
              "    <tr>\n",
              "      <th>1</th>\n",
              "      <td>65345</td>\n",
              "      <td>Snack Food Item</td>\n",
              "      <td>10.0</td>\n",
              "      <td>Male</td>\n",
              "      <td>choking</td>\n",
              "    </tr>\n",
              "    <tr>\n",
              "      <th>2</th>\n",
              "      <td>65353</td>\n",
              "      <td>Vit/Min/Prot/Unconv Diet(Human/Animal)</td>\n",
              "      <td>40.0</td>\n",
              "      <td>Female</td>\n",
              "      <td>delusion, paranoia, physical examination</td>\n",
              "    </tr>\n",
              "    <tr>\n",
              "      <th>3</th>\n",
              "      <td>65353</td>\n",
              "      <td>Vit/Min/Prot/Unconv Diet(Human/Animal)</td>\n",
              "      <td>40.0</td>\n",
              "      <td>Female</td>\n",
              "      <td>delusion, paranoia, physical examination</td>\n",
              "    </tr>\n",
              "    <tr>\n",
              "      <th>4</th>\n",
              "      <td>65354</td>\n",
              "      <td>Vit/Min/Prot/Unconv Diet(Human/Animal)</td>\n",
              "      <td>66.0</td>\n",
              "      <td>Male</td>\n",
              "      <td>blood pressure increased</td>\n",
              "    </tr>\n",
              "  </tbody>\n",
              "</table>\n",
              "</div>\n",
              "      <button class=\"colab-df-convert\" onclick=\"convertToInteractive('df-115820de-c835-454d-be9e-b05a128c074f')\"\n",
              "              title=\"Convert this dataframe to an interactive table.\"\n",
              "              style=\"display:none;\">\n",
              "        \n",
              "  <svg xmlns=\"http://www.w3.org/2000/svg\" height=\"24px\"viewBox=\"0 0 24 24\"\n",
              "       width=\"24px\">\n",
              "    <path d=\"M0 0h24v24H0V0z\" fill=\"none\"/>\n",
              "    <path d=\"M18.56 5.44l.94 2.06.94-2.06 2.06-.94-2.06-.94-.94-2.06-.94 2.06-2.06.94zm-11 1L8.5 8.5l.94-2.06 2.06-.94-2.06-.94L8.5 2.5l-.94 2.06-2.06.94zm10 10l.94 2.06.94-2.06 2.06-.94-2.06-.94-.94-2.06-.94 2.06-2.06.94z\"/><path d=\"M17.41 7.96l-1.37-1.37c-.4-.4-.92-.59-1.43-.59-.52 0-1.04.2-1.43.59L10.3 9.45l-7.72 7.72c-.78.78-.78 2.05 0 2.83L4 21.41c.39.39.9.59 1.41.59.51 0 1.02-.2 1.41-.59l7.78-7.78 2.81-2.81c.8-.78.8-2.07 0-2.86zM5.41 20L4 18.59l7.72-7.72 1.47 1.35L5.41 20z\"/>\n",
              "  </svg>\n",
              "      </button>\n",
              "      \n",
              "  <style>\n",
              "    .colab-df-container {\n",
              "      display:flex;\n",
              "      flex-wrap:wrap;\n",
              "      gap: 12px;\n",
              "    }\n",
              "\n",
              "    .colab-df-convert {\n",
              "      background-color: #E8F0FE;\n",
              "      border: none;\n",
              "      border-radius: 50%;\n",
              "      cursor: pointer;\n",
              "      display: none;\n",
              "      fill: #1967D2;\n",
              "      height: 32px;\n",
              "      padding: 0 0 0 0;\n",
              "      width: 32px;\n",
              "    }\n",
              "\n",
              "    .colab-df-convert:hover {\n",
              "      background-color: #E2EBFA;\n",
              "      box-shadow: 0px 1px 2px rgba(60, 64, 67, 0.3), 0px 1px 3px 1px rgba(60, 64, 67, 0.15);\n",
              "      fill: #174EA6;\n",
              "    }\n",
              "\n",
              "    [theme=dark] .colab-df-convert {\n",
              "      background-color: #3B4455;\n",
              "      fill: #D2E3FC;\n",
              "    }\n",
              "\n",
              "    [theme=dark] .colab-df-convert:hover {\n",
              "      background-color: #434B5C;\n",
              "      box-shadow: 0px 1px 3px 1px rgba(0, 0, 0, 0.15);\n",
              "      filter: drop-shadow(0px 1px 2px rgba(0, 0, 0, 0.3));\n",
              "      fill: #FFFFFF;\n",
              "    }\n",
              "  </style>\n",
              "\n",
              "      <script>\n",
              "        const buttonEl =\n",
              "          document.querySelector('#df-115820de-c835-454d-be9e-b05a128c074f button.colab-df-convert');\n",
              "        buttonEl.style.display =\n",
              "          google.colab.kernel.accessAllowed ? 'block' : 'none';\n",
              "\n",
              "        async function convertToInteractive(key) {\n",
              "          const element = document.querySelector('#df-115820de-c835-454d-be9e-b05a128c074f');\n",
              "          const dataTable =\n",
              "            await google.colab.kernel.invokeFunction('convertToInteractive',\n",
              "                                                     [key], {});\n",
              "          if (!dataTable) return;\n",
              "\n",
              "          const docLinkHtml = 'Like what you see? Visit the ' +\n",
              "            '<a target=\"_blank\" href=https://colab.research.google.com/notebooks/data_table.ipynb>data table notebook</a>'\n",
              "            + ' to learn more about interactive tables.';\n",
              "          element.innerHTML = '';\n",
              "          dataTable['output_type'] = 'display_data';\n",
              "          await google.colab.output.renderOutput(dataTable, element);\n",
              "          const docLink = document.createElement('div');\n",
              "          docLink.innerHTML = docLinkHtml;\n",
              "          element.appendChild(docLink);\n",
              "        }\n",
              "      </script>\n",
              "    </div>\n",
              "  </div>\n",
              "  "
            ]
          },
          "metadata": {},
          "execution_count": 23
        }
      ]
    },
    {
      "cell_type": "markdown",
      "source": [
        "# IV. Analyse"
      ],
      "metadata": {
        "id": "zLmZW0qXYMAq"
      }
    },
    {
      "cell_type": "markdown",
      "source": [
        "## Top 5 product types with most cases"
      ],
      "metadata": {
        "id": "uzJhv943wvAj"
      }
    },
    {
      "cell_type": "markdown",
      "source": [
        "### Analyze"
      ],
      "metadata": {
        "id": "r_026WhR74lm"
      }
    },
    {
      "cell_type": "code",
      "source": [
        "reactions_by_product_type = df.groupby([\"DESCRIPTION\"])['REPORT_ID'].count().sort_values(ascending=False).to_frame().reset_index(level=0)"
      ],
      "metadata": {
        "id": "xq4CLuNDYWyF"
      },
      "execution_count": 24,
      "outputs": []
    },
    {
      "cell_type": "markdown",
      "source": [
        "###Visualize"
      ],
      "metadata": {
        "id": "XV1Rdj6K70HL"
      }
    },
    {
      "cell_type": "code",
      "source": [
        "sns.set_theme(style = \"whitegrid\")\n",
        "ax = sns.barplot(data = reactions_by_product_type.head(5)\n",
        "            ,y = 'DESCRIPTION'\n",
        "            ,x = 'REPORT_ID'\n",
        "            ,orient = \"h\"\n",
        "            )\n",
        "ax.set(xlabel='Reactions', ylabel='Industry')\n",
        "plt.show()"
      ],
      "metadata": {
        "id": "2dmuAmSd784W",
        "colab": {
          "base_uri": "https://localhost:8080/",
          "height": 285
        },
        "outputId": "0059b8cd-422f-4a72-f016-3121bbe9d9b3"
      },
      "execution_count": 25,
      "outputs": [
        {
          "output_type": "display_data",
          "data": {
            "text/plain": [
              "<Figure size 432x288 with 1 Axes>"
            ],
            "image/png": "[encoded data removed]"
          },
          "metadata": {}
        }
      ]
    },
    {
      "cell_type": "markdown",
      "source": [
        "## Top 5 ages with most cases"
      ],
      "metadata": {
        "id": "BXmPGbtfaIGC"
      }
    },
    {
      "cell_type": "markdown",
      "source": [
        "###Analyze"
      ],
      "metadata": {
        "id": "k9UgM-8c_cQK"
      }
    },
    {
      "cell_type": "code",
      "source": [
        "reactions_by_age = df.groupby([\"PATIENT_AGE\"])['REPORT_ID'].count().sort_values(ascending=False).to_frame().reset_index(level=0)"
      ],
      "metadata": {
        "id": "g6fdoY9eieRj"
      },
      "execution_count": 30,
      "outputs": []
    },
    {
      "cell_type": "markdown",
      "source": [
        "### Visualize"
      ],
      "metadata": {
        "id": "Vbdwl7_t_fge"
      }
    },
    {
      "cell_type": "code",
      "source": [
        "sns.set_theme(style = \"whitegrid\")\n",
        "ax = sns.barplot(data = reactions_by_age.head(5)\n",
        "            ,y = 'PATIENT_AGE'\n",
        "            ,x = 'REPORT_ID'\n",
        "            ,orient = \"h\"\n",
        "            )\n",
        "ax.set(xlabel='Reactions', ylabel='age')\n",
        "plt.show()"
      ],
      "metadata": {
        "id": "75Em2Rny_nJR",
        "colab": {
          "base_uri": "https://localhost:8080/",
          "height": 285
        },
        "outputId": "dd52e621-3401-4c7e-bf9f-35c57bc79819"
      },
      "execution_count": 32,
      "outputs": [
        {
          "output_type": "display_data",
          "data": {
            "text/plain": [
              "<Figure size 432x288 with 1 Axes>"
            ],
            "image/png": "[encoded data removed]"
          },
          "metadata": {}
        }
      ]
    },
    {
      "cell_type": "markdown",
      "source": [
        "## Cases per gender"
      ],
      "metadata": {
        "id": "p7DcQO43p2tg"
      }
    },
    {
      "cell_type": "markdown",
      "source": [
        "###Analyze"
      ],
      "metadata": {
        "id": "biWjUaeY8E0c"
      }
    },
    {
      "cell_type": "code",
      "source": [
        "cases_by_gender = df.groupby([\"SEX\"])['REPORT_ID'].count().sort_values(ascending=False).to_frame().reset_index(level=0)"
      ],
      "metadata": {
        "id": "fjrrGBD1p12X"
      },
      "execution_count": 33,
      "outputs": []
    },
    {
      "cell_type": "markdown",
      "source": [
        "### Visualize"
      ],
      "metadata": {
        "id": "tMDTX0EU8S24"
      }
    },
    {
      "cell_type": "code",
      "source": [
        "sns.set_theme(style = \"whitegrid\")\n",
        "ax = sns.barplot(data = cases_by_gender\n",
        "            ,y = 'SEX'\n",
        "            ,x = 'REPORT_ID'\n",
        "            ,orient = \"h\"\n",
        "            )\n",
        "ax.set(xlabel='reactions', ylabel='sex')\n",
        "plt.show()"
      ],
      "metadata": {
        "id": "n_ZIosWm_EHW",
        "colab": {
          "base_uri": "https://localhost:8080/",
          "height": 285
        },
        "outputId": "e38fce70-9b30-4ae2-e590-96e2c6f9178c"
      },
      "execution_count": 35,
      "outputs": [
        {
          "output_type": "display_data",
          "data": {
            "text/plain": [
              "<Figure size 432x288 with 1 Axes>"
            ],
            "image/png": "[encoded data removed]"
          },
          "metadata": {}
        }
      ]
    },
    {
      "cell_type": "markdown",
      "source": [
        "## Top 5 most common case types"
      ],
      "metadata": {
        "id": "dec8MjAUDp3O"
      }
    },
    {
      "cell_type": "markdown",
      "source": [
        "### Analyze"
      ],
      "metadata": {
        "id": "sHpZPyieDviE"
      }
    },
    {
      "cell_type": "code",
      "source": [
        "count_per_reaction = df.groupby([\"CASE_MEDDRA_PREFERRED_TERMS\"])['REPORT_ID'].count().sort_values(ascending=False).to_frame().reset_index(level=0)"
      ],
      "metadata": {
        "id": "KWwgX-OpH4bE"
      },
      "execution_count": 38,
      "outputs": []
    },
    {
      "cell_type": "markdown",
      "source": [
        "### Visualize"
      ],
      "metadata": {
        "id": "Ri07umpFDyKd"
      }
    },
    {
      "cell_type": "code",
      "source": [
        "sns.set_theme(style = \"whitegrid\")\n",
        "ax = sns.barplot(data = count_per_reaction.head(5)\n",
        "            ,y = 'CASE_MEDDRA_PREFERRED_TERMS'\n",
        "            ,x = 'REPORT_ID'\n",
        "            ,orient = \"h\"\n",
        "            )\n",
        "ax.set(xlabel='count_reaction', ylabel='reaction')\n",
        "plt.show()"
      ],
      "metadata": {
        "colab": {
          "base_uri": "https://localhost:8080/",
          "height": 285
        },
        "id": "q4eDVF1bIZ8n",
        "outputId": "5db15f1e-8f3e-4dc1-8da3-8e3258e88dd0"
      },
      "execution_count": 40,
      "outputs": [
        {
          "output_type": "display_data",
          "data": {
            "text/plain": [
              "<Figure size 432x288 with 1 Axes>"
            ],
            "image/png": "[encoded data removed]"
          },
          "metadata": {}
        }
      ]
    },
    {
      "cell_type": "markdown",
      "source": [
        "## Relationship between age and case count\n"
      ],
      "metadata": {
        "id": "czVQJwc_wJ7E"
      }
    },
    {
      "cell_type": "markdown",
      "source": [
        "###Analyze"
      ],
      "metadata": {
        "id": "XTcGBAK6AIh6"
      }
    },
    {
      "cell_type": "code",
      "source": [
        "cases_vs_age = df.groupby([\"PATIENT_AGE\"])['REPORT_ID'].count().sort_values(ascending=False).to_frame().reset_index(level=0)"
      ],
      "metadata": {
        "id": "5z2wWOWQLWlC"
      },
      "execution_count": 37,
      "outputs": []
    },
    {
      "cell_type": "markdown",
      "source": [
        "### Visualize\n"
      ],
      "metadata": {
        "id": "xdFSt1A0_3HJ"
      }
    },
    {
      "cell_type": "code",
      "source": [
        "sns.scatterplot(data=reactions_by_age, x= \"PATIENT_AGE\", y=\"REPORT_ID\")\n",
        "plt.show()"
      ],
      "metadata": {
        "colab": {
          "base_uri": "https://localhost:8080/",
          "height": 285
        },
        "id": "lYIxCu-ALXII",
        "outputId": "80e8eb82-473e-4a6f-ee5d-454922915821"
      },
      "execution_count": 36,
      "outputs": [
        {
          "output_type": "display_data",
          "data": {
            "text/plain": [
              "<Figure size 432x288 with 1 Axes>"
            ],
            "image/png": "[encoded data removed]"
          },
          "metadata": {}
        }
      ]
    },
    {
      "cell_type": "markdown",
      "source": [
        "#V. Share"
      ],
      "metadata": {
        "id": "MOdpxARmYTKn"
      }
    },
    {
      "cell_type": "markdown",
      "source": [
        "https://docs.google.com/presentation/d/1NrSiGy-USafKMxSw9OfTPaHnFFTWyOlhimG5hcST70c/edit?usp=sharing"
      ],
      "metadata": {
        "id": "kiSW81ZBlfQS"
      }
    },
    {
      "cell_type": "markdown",
      "source": [
        "#VI. Act "
      ],
      "metadata": {
        "id": "y1F7Ar72YQzZ"
      }
    },
    {
      "cell_type": "markdown",
      "source": [
        "https://docs.google.com/presentation/d/1NrSiGy-USafKMxSw9OfTPaHnFFTWyOlhimG5hcST70c/edit?usp=sharing"
      ],
      "metadata": {
        "id": "j3qZMjVt6LiV"
      }
    }
  ]
}